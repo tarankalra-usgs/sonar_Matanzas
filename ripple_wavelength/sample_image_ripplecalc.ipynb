{
 "cells": [
  {
   "cell_type": "code",
   "execution_count": 1,
   "metadata": {},
   "outputs": [],
   "source": [
    "from matplotlib import pyplot as plt\n",
    "from matplotlib import image as img\n",
    "import netCDF4 as nc\n",
    "import numpy as np\n",
    "import math\n",
    "from scipy import signal, interpolate"
   ]
  },
  {
   "cell_type": "code",
   "execution_count": 2,
   "metadata": {},
   "outputs": [
    {
     "data": {
      "text/plain": [
       "(1001, 1001, 3)"
      ]
     },
     "execution_count": 2,
     "metadata": {},
     "output_type": "execute_result"
    }
   ],
   "source": [
    "#im = img.imread('../rippleTests/5645Degrees.png')\n",
    "im = img.imread('56Vertical.png')\n",
    "np.shape(im)"
   ]
  },
  {
   "cell_type": "code",
   "execution_count": 3,
   "metadata": {},
   "outputs": [
    {
     "data": {
      "image/png": "[encoded data removed]",
      "text/plain": [
       "<Figure size 720x720 with 1 Axes>"
      ]
     },
     "metadata": {
      "needs_background": "light"
     },
     "output_type": "display_data"
    }
   ],
   "source": [
    "plt.figure(figsize=[10, 10])\n",
    "plt.imshow(im)\n",
    "plt.show()"
   ]
  },
  {
   "cell_type": "code",
   "execution_count": 4,
   "metadata": {},
   "outputs": [
    {
     "name": "stdout",
     "output_type": "stream",
     "text": [
      "(1000,)\n"
     ]
    }
   ],
   "source": [
    "#Estimated dimensions of one pixel\n",
    "dx = 0.01\n",
    "dy = 0.01\n",
    "\n",
    "#Create x and y dimensions, as well as edgelength of a subimage\n",
    "# the x and y should allow the center to be at 0 and allow for -x, +x and -y and +y\n",
    "# take it to -5 m to 5 m in both x, y \n",
    "x = np.arange(-500*dx, 500*dx, dx)\n",
    "y = np.arange(-500*dy, 500*dy, dy)\n",
    "\n",
    "print(np.shape(x))\n",
    "#squareEdgeLength = 2048*dx\n",
    "m=256\n",
    "n=m"
   ]
  },
  {
   "cell_type": "code",
   "execution_count": 5,
   "metadata": {},
   "outputs": [],
   "source": [
    " def subImageInterp(x, y, z, m, n):\n",
    "    #This function creates and interpolates over the subimage region\n",
    "    #Input:\n",
    "    #     x: coordinates in the x direction\n",
    "    #     y: coordinates in the y direction\n",
    "    #     z: z = f(x, y) i.e. sonar return strength, pixel strength\n",
    "    #     m: number of points in the x direction, ideally a power of 2\n",
    "    #     n: number of points in the y direction, ideally a power of 2\n",
    "    #Output:\n",
    "    #     xInterp: x-coordinates of the interpolated grid\n",
    "    #     yInterp: y-coordinates of the interpolated grid\n",
    "    #     zInterp: Interpolated z values\n",
    "    \n",
    "    #Define the center\n",
    "    xCenter = 0 \n",
    "    #yCenter = -5-squareEdgeLength/2.\n",
    "    yCenter = 0 \n",
    "\n",
    "    \n",
    "    #FFT is performed on a collection of subimages\n",
    "    squareEdgeLength = max(m*dx, n*dy)\n",
    "    \n",
    "    print(squareEdgeLength)\n",
    "    \n",
    "    #Define the 4 corners\n",
    "    xSquareRange = [xCenter - squareEdgeLength/2., xCenter + squareEdgeLength/2.]\n",
    "    ySquareRange = [yCenter - squareEdgeLength/2., yCenter + squareEdgeLength/2.]\n",
    "    \n",
    "#    print(xSquareRange)\n",
    "#    print(ySquareRange)\n",
    "    \n",
    "    #Get the datapoints that exist within the subimage\n",
    "    xMask = np.logical_and(x > xSquareRange[0], x < xSquareRange[1])\n",
    "    yMask = np.logical_and(y > ySquareRange[0], y < ySquareRange[1])\n",
    "#    print(x)\n",
    "#    print(xSquareRange)\n",
    "#    print(ySquareRange)\n",
    "    \n",
    "#    print(np.shape(xMask))\n",
    "#    print(np.shape(x))\n",
    "    \n",
    "    xReal = x[xMask]\n",
    "#    print(x[xMask])\n",
    "    yReal = y[yMask]\n",
    "    zReal = z[np.ix_(xMask, yMask)]\n",
    "        \n",
    "    #Create the region to interpolate over\n",
    "    xInterp = np.arange(xSquareRange[0], xSquareRange[1], dx)\n",
    "    yInterp = np.arange(ySquareRange[0], ySquareRange[1], dy)\n",
    "    \n",
    "    #Standardize the size of the regions\n",
    "    xInterp = xInterp[0:m]\n",
    "    yInterp = yInterp[0:n]\n",
    "\n",
    "    #Make the x and y arrays 2-dimensional\n",
    "    xInterpGrid, yInterpGrid = np.meshgrid(xInterp, yInterp)\n",
    "\n",
    "    #Reshape the data for the interpolation method\n",
    "    mTemp = np.size(xReal)\n",
    "    nTemp = np.size(yReal)\n",
    "        \n",
    "    xReal, yReal = np.meshgrid(xReal, yReal)\n",
    "        \n",
    "#    print(mTemp)\n",
    "#    print(nTemp)\n",
    "    \n",
    "#    print(np.shape(xReal))\n",
    "#    print(xReal)\n",
    "    \n",
    "    xReal = xReal.reshape(mTemp*nTemp)\n",
    "    yReal = yReal.reshape(mTemp*nTemp)\n",
    "    zReal = zReal.reshape(mTemp*nTemp)\n",
    "        \n",
    "    #Perform a scattered interpolant\n",
    "    zInterp = interpolate.griddata((xReal, yReal), zReal,\n",
    "                                    (xInterpGrid, yInterpGrid), method='cubic')\n",
    "        \n",
    "    #Remove NaNs\n",
    "    zInterp[np.isnan(zInterp)] = 0\n",
    "    \n",
    "#    plt.figure(figsize=[10, 10])\n",
    "#    plt.pcolor(xInterp, yInterp, zInterp)\n",
    "#    plt.show()\n",
    "    \n",
    "#    print(np.shape(xInterp))\n",
    "#    print(np.shape(zInterp))\n",
    "    \n",
    "    return xInterp, yInterp, zInterp\n",
    "    \n",
    "def spectrum(x, y, z, dx, dy, m, n):\n",
    "    #Return a power and associated wavenumbers in the x and y direction\n",
    "    #Input:\n",
    "    #     x: coordinates in the x direction\n",
    "    #     y: coordinates in the y direction\n",
    "    #     z: z = f(x, y) i.e. sonar return strength, pixel strength\n",
    "    #     dx: step size in the x direction\n",
    "    #     dy: step size in the y direction\n",
    "    #     m: number of points in the x direction, ideally a power of 2\n",
    "    #     n: number of points in the y direction, ideally a power of 2\n",
    "    #Output:\n",
    "    #     pZ: power estimate of the fft, pZ = F(kx, ky)\n",
    "    #     kx: wavenumber in the x direction\n",
    "    #     ky: wavenumber in the y direction\n",
    "    \n",
    "    #First step is to remove a 2nd degree polynomial\n",
    "    yTrend = np.polyfit(y, z, 2)\n",
    "    \n",
    "    xGrid, yGrid = np.meshgrid(x, y)\n",
    "    \n",
    "    z = z - np.polyval(yTrend, yGrid)\n",
    "    \n",
    "    z = z.transpose()\n",
    "    \n",
    "    xTrend = np.polyfit(x, z, 2)\n",
    "        \n",
    "    z = z - np.polyval(xTrend, xGrid.transpose())\n",
    "    \n",
    "    z = z.transpose()\n",
    "    \n",
    "    #Perform the fft\n",
    "    fftZ = np.fft.fft2(z)\n",
    "    \n",
    "    #Estimate power\n",
    "    pZ = abs(fftZ)**2\n",
    "    \n",
    "    pZ[[1, 2, -1], [1, 2 , -1]] = 0\n",
    "    \n",
    "    if m%2 == 0:\n",
    "        pZ[int(m/2+1), :] = 0\n",
    "    if n%2 == 0:\n",
    "        pZ[:, int(n/2+1)] = 0\n",
    "    \n",
    "    pZ = np.fft.fftshift(pZ)\n",
    "    \n",
    "    #Estimate wavenumbers\n",
    "    xRange = list(range(0, m))\n",
    "    kx = [((1/2+val/m)%1)-1/2 for val in xRange]\n",
    "    kx = [val * 2 * math.pi / dx for val in kx]\n",
    "    kx = np.fft.fftshift(kx)\n",
    "\n",
    "    yRange = list(range(0, n))\n",
    "    ky = [((1/2+val/n)%1)-1/2 for val in yRange]\n",
    "    ky = [val * 2 * math.pi / dy for val in ky]\n",
    "    ky = np.fft.fftshift(ky)\n",
    "    \n",
    "    return pZ, kx, ky\n",
    "    \n",
    "\n",
    "def findRipple(x, y, z, m, n):\n",
    "    #Take ripple image data and return a ripple orientation and wavelength\n",
    "    #Input:\n",
    "    #     x: coordinates in the x direction\n",
    "    #     y: coordinates in the y direction\n",
    "    #     z: z = f(x, y) i.e. sonar return strength, pixel strength\n",
    "    #     m, n: number of points for FFT also determine the size of the squarebox\n",
    "    #     hgt: height of the sonar\n",
    "    #Output:\n",
    "    #     theta: ripple orientation\n",
    "    #     wavelength: ripple wavelength\n",
    "    \n",
    "    \n",
    "    #Define parameters\n",
    "    \n",
    "    #rot = 0\n",
    "    #north = 90 \n",
    "    imgRange = 1\n",
    "    dx = x[1] - x[0]\n",
    "    dy = y[1] - y[0]\n",
    "    \n",
    "    print('dx:',dx)\n",
    "    maxRange = imgRange\n",
    "    \n",
    "    sizeX, sizeY = np.shape(z)\n",
    "    \n",
    "    imgCenterX = x[int(sizeX/2)]\n",
    "    imgCenterY = y[int(sizeY/2)]\n",
    "    \n",
    "    #print(imgCenterX)\n",
    "    #print(imgCenterY)\n",
    "    \n",
    "    #Number of points for FFT\n",
    "    \n",
    "#    m = 2048\n",
    "#    n = 2048\n",
    "\n",
    "    #Create a Filter\n",
    "    F=np.array([[0, 1, 0], [1, 2, 1], [0, 1, 0]])\n",
    "    F=F/F.sum()\n",
    "    \n",
    "    #Create the subimage\n",
    "    xInterp, yInterp, zInterp = subImageInterp(x, y, z, m, n)\n",
    "    #Perform the fft\n",
    "    pZ, kx, ky = spectrum(xInterp, yInterp, zInterp, dx, dy, m, n)\n",
    "    \n",
    "    #Remove low falues\n",
    "    xMask = abs(kx) <= 3.3\n",
    "    yMask = abs(ky) <= 3.3\n",
    "    \n",
    "    pZ[np.ix_(xMask, yMask)] = 0\n",
    "    \n",
    "    #Apply the filter # EDGE DETECTION \n",
    "    pZ = signal.convolve2d(pZ, F, 'same')\n",
    "    \n",
    "    #Get max wavenumber values\n",
    "    kx, ky = np.meshgrid(kx, ky)\n",
    "    \n",
    "    KX = kx[pZ == pZ.max()]\n",
    "    KY = ky[pZ == pZ.max()]\n",
    "    \n",
    "    #If there are multiple points, use the first one\n",
    "    if type(KX) == np.ndarray:\n",
    "        KX = KX[0]\n",
    "        KY = KY[0]\n",
    "    \n",
    "    #Calculate the orientation\n",
    "#    theta=math.atan2(KY/KX)*180/math.pi\n",
    "    theta=math.atan2(KY, KX)*180/math.pi\n",
    "#    theta=math.atan(KY/KX)*180/math.pi\n",
    "#    theta=-(theta-90)\n",
    "#    theta=theta+90\n",
    "#    if theta < 0:\n",
    "#        theta += 360\n",
    "#    if theta >= 180:\n",
    "#        theta -= 180\n",
    "    \n",
    "    #Caulculate the wavelength\n",
    "    wavelength = 2*math.pi/math.sqrt(KX**2 + KY**2)\n",
    "    \n",
    "    return theta, wavelength, xInterp, yInterp, zInterp\n"
   ]
  },
  {
   "cell_type": "code",
   "execution_count": 6,
   "metadata": {
    "scrolled": false
   },
   "outputs": [
    {
     "name": "stdout",
     "output_type": "stream",
     "text": [
      "dx: 0.009999999999999787\n",
      "2.56\n",
      "theta: -153.43494882292202\n",
      "wavelength: 0.5724334022399339\n"
     ]
    }
   ],
   "source": [
    "#img1 = np.flip(img.imread(imList[imRange[0]]), 0)\n",
    "# TSK flip the image and convert to gray scale\n",
    "\n",
    "img1 = np.dot(im[:,:,:3],[0.2989, 0.5870, 0.1170])\n",
    "#print(img1)\n",
    "#print(np.shape(img1))\n",
    "#print(np.shape(x))\n",
    "#Get the orientation and dimensions\n",
    "\n",
    "theta, wavelength, xInterp, yInterp, zInterp = findRipple(x, y, img1, m, n)\n",
    "print('theta:',theta)\n",
    "print('wavelength:',wavelength)"
   ]
  },
  {
   "cell_type": "code",
   "execution_count": 7,
   "metadata": {},
   "outputs": [
    {
     "name": "stdout",
     "output_type": "stream",
     "text": [
      "(1000,)\n",
      "(1000,)\n",
      "(1001, 1001)\n"
     ]
    },
    {
     "data": {
      "image/png": "[encoded data removed]",
      "text/plain": [
       "<Figure size 720x720 with 1 Axes>"
      ]
     },
     "metadata": {
      "needs_background": "light"
     },
     "output_type": "display_data"
    }
   ],
   "source": [
    "print(np.shape(x))\n",
    "print(np.shape(y))\n",
    "print(np.shape(img1))\n",
    "\n",
    "plt.figure(figsize=[10, 10])\n",
    "#plt.pcolor(x, y, img1)\n",
    "plt.pcolor(xInterp, yInterp, zInterp)\n",
    "\n",
    "xPlot = [-wavelength*math.cos(math.radians(-(theta))), 0,\n",
    "                    wavelength*math.cos(math.radians(-(theta)))]\n",
    "\n",
    "yPlot = [-wavelength*math.sin(math.radians(-(theta))), 0,\n",
    "                    wavelength*math.sin(math.radians(-(theta)))]\n",
    "\n",
    "plt.plot(xPlot, yPlot, 'ro-', linewidth=2.5)\n",
    "\n",
    "plt.show()\n"
   ]
  },
  {
   "cell_type": "code",
   "execution_count": null,
   "metadata": {},
   "outputs": [],
   "source": []
  },
  {
   "cell_type": "code",
   "execution_count": null,
   "metadata": {},
   "outputs": [],
   "source": []
  }
 ],
 "metadata": {
  "kernelspec": {
   "display_name": "Python 3",
   "language": "python",
   "name": "python3"
  },
  "language_info": {
   "codemirror_mode": {
    "name": "ipython",
    "version": 3
   },
   "file_extension": ".py",
   "mimetype": "text/x-python",
   "name": "python",
   "nbconvert_exporter": "python",
   "pygments_lexer": "ipython3",
   "version": "3.7.3"
  }
 },
 "nbformat": 4,
 "nbformat_minor": 4
}
